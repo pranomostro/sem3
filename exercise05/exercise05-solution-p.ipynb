{
 "cells": [
  {
   "cell_type": "markdown",
   "metadata": {},
   "source": [
    "# Assignment 5.1 (P): Getting Started\n",
    "\n",
    "Have a quick look at the following OCaml tools.\n",
    "\n",
    "## REPLs (Read Eval Print Loops)\n",
    "\n",
    "### ocaml\n",
    "\n",
    "Simply type your OCaml code. If you want the REPL to execute your code, type `;;`. Execute the content of a .ml file with `#use \"<filename>\"`. To exit the REPL enter `#quit` or type `Ctrl + D`. Note that `#use`, `quit` as well as `;;` are special sequences recognized by the REPL and are not part of OCaml (so do not use them in a .ml file).\n",
    "\n",
    "### utop\n",
    "\n",
    "utop works in the same way as ocaml, but is more comfortable as it comes with autocompletion, for example, and allows you to change or redo previously typed code much more easily.\n",
    "\n",
    "## IDEs\n",
    "\n",
    "### Visual Studio Code\n",
    "\n",
    "Visual Studio Code is a free full-fledged integrated development environment for a lot of programming languages, due to its great extensibility and rich set of existing extensions. The OCaml plugin together with merlin and ocp-indent provides great utilities\n",
    "\n",
    "* syntax highlighting\n",
    "* autocompletion\n",
    "* smart identation\n",
    "* peek and goto definition\n",
    "* type information \n",
    "* immediate error reports\n",
    "* integrated terminal\n",
    "* and much more ...\n",
    "\n",
    "## Compilers\n",
    "\n",
    "### ocamlc\n",
    "\n",
    "ocamlc is a basic ocaml compiler. When invoked as `ocamlc <file-0> ... <file-n>` it compiles all files into an executable named `a.out`. During this process, `.cmi` and `.cmo` files are generated, representing the compiled interface and object files respectively. Check the documentation (http://caml.inria.fr/pub/docs/manual-ocaml-4.00/manual022.html#toc86) for a list of all command line options and more advanced build steps.\n",
    "\n",
    "### ocamlbuild\n",
    "\n",
    "ocamlbuild is a more convenient compilation utility, as it resolves and compiles dependencies automatically. In order to build your project with ocamlbuild, simply compile your main file `<file>.ml` with either `ocamlbuild <file>.d.byte` or `ocambuild <file>.native` to produce bytecode (with debug information) or native code, respectively. Check the documentation (https://ocaml.org/learn/tutorials/ocamlbuild/) for more details.\n"
   ]
  },
  {
   "cell_type": "markdown",
   "metadata": {},
   "source": [
    "# Assignment 5.2 (P) Expressions\n",
    "\n",
    "So far, you learned about the following types of expressions:\n",
    "* Constants\n",
    "* Variables\n",
    "* Unary operators\n",
    "* Binary operators\n",
    "* Tuples\n",
    "* Records\n",
    "* Lists\n",
    "* If-then-else\n",
    "* Pattern matching\n",
    "* Function definition\n",
    "* Function application\n",
    "* Variable binding\n",
    "\n",
    "Perform the following tasks:\n",
    "1. For each of these expressions, give the general structure and two concrete examples with different subexpressions."
   ]
  },
  {
   "cell_type": "markdown",
   "metadata": {},
   "source": [
    "* Constants: $c$ e.g. `7`, `true`\n",
    "* Variables: $v$ e.g. `a`, `my_function`\n",
    "* Unary operators: $op \\; e$ e.g. `-x`, `not true`\n",
    "* Binary operators: $e_0 \\; op \\; e_1$ e.g. `3 + a`, `x = -y`\n",
    "* Tuples: $e_0, \\dotsc, e_n$, e.g. `2, x`, `false, 2 + 4, a, my_function`\n",
    "* Records (definition): $\\{ attr_0 = e_0; \\dotsc attr_n = e_n \\}$, e.g. `{ width = 7; height = x - 2 }` (note that a record type with these attributes must be declared)\n",
    "* Records (access): $e_0.e_1$ e.g. `size.width`, `{ age = 12 }.age`\n",
    "* Lists: $e_0 :: e_1$ (resp. $[ e_0, \\dotsc, e_n]$, e.g. `2::[]`, `[1,2;3,4;5,6]`\n",
    "* if-then-else: $\\mbox{if} \\; e_0 \\; \\mbox{then} \\; e_1 \\; \\mbox{else} \\; e_2$, e.g. `if x > 0 then 2 else -4`, `if a = b then 1.0, 'a' else -0.5, 'b'`\n",
    "* Pattern matching: $\\mbox{match} \\; e \\; \\mbox{with} \\; pat_0 \\;\\to \\;e_0 \\; | \\; \\dotsc \\; | \\; pat_n \\; \\to \\; e_n$, e.g. `match a with [] -> 1 | x::_ -> x`, `match x,y with 0,0 -> \"\" | 1,_ -> \"x\" | _ -> \"abc\"`\n",
    "* Function definition: $\\mbox{fun} \\; arg_0 \\; \\dotsc \\; arg_n \\; \\to e$, e.g. `fun x -> 2`, `fun a b c -> a + b - c`\n",
    "* Function application: $e \\; e_0$ (resp. $e \\; e_0 \\; \\dotsc \\; e_n$), e.g. `f 2`, `(fun x -> 0) (1::[])`\n",
    "* Variable binding: $\\mbox{let} \\; name = e_0 \\; \\mbox{in} \\; e_1$, e.g. `let x = 4 in x * x`, `let f = fun a -> a + 2 in f 7`"
   ]
  },
  {
   "cell_type": "markdown",
   "metadata": {},
   "source": [
    "2. For these expression, list all contained subexpressions and give their corresponding type. Then evaluate the expression:"
   ]
  },
  {
   "cell_type": "code",
   "execution_count": null,
   "metadata": {},
   "outputs": [],
   "source": [
    "(* a *) let a = fun x y -> x + 2 in a 3 8 :: []"
   ]
  },
  {
   "cell_type": "code",
   "execution_count": null,
   "metadata": {},
   "outputs": [],
   "source": [
    "(* b *) ((fun x -> x::[]) (9 - 5), true, ('a', 7))"
   ]
  },
  {
   "cell_type": "raw",
   "metadata": {},
   "source": [
    "(* a *) let a = fun x y -> x + 2 in a 3 8 :: []    : int list                       \n",
    "                fun x y -> x + 2                   : int -> 'a -> int\n",
    "                           x + 2                   : int\n",
    "                           x                       : int\n",
    "                               2                   : int\n",
    "                                    a 3 8 :: []    : int list\n",
    "                                    a 3 8          : int\n",
    "                                    a              : int -> 'a -> int\n",
    "                                      3            : int\n",
    "                                        8          : int\n",
    "                                             []    : int list\n",
    "        (* value = [5] *)\n",
    "                                             \n",
    "(* b *) ((fun x -> x::[]) (9 - 5), true, ('a', 7)) : int list * bool * (char * int)\n",
    "         (fun x -> x::[]) (9 - 5)                  : int list\n",
    "          fun x -> x::[]                           : 'a -> 'a list\n",
    "                   x::[]                           : 'a list\n",
    "                   x                               : 'a\n",
    "                      []                           : 'a list\n",
    "                           9 - 5                   : int\n",
    "                           9                       : int\n",
    "                               5                   : int\n",
    "                                   true            : bool\n",
    "                                          'a', 7   : char * int\n",
    "                                          'a'      : char\n",
    "                                               7   : int\n",
    "        (* value = ([4], true, ('a', 7)) *)\n",
    "                "
   ]
  },
  {
   "cell_type": "markdown",
   "metadata": {},
   "source": [
    "# Assignment 5.3 (P): What's the point?\n",
    "\n",
    "In this assignment, you are supposted to implement some functionalities to compute with 3-dimensional vectors. \n",
    "\n",
    "1. Define a suitable data type for your point."
   ]
  },
  {
   "cell_type": "code",
   "execution_count": null,
   "metadata": {},
   "outputs": [],
   "source": [
    "type vector3 = float * float * float"
   ]
  },
  {
   "cell_type": "markdown",
   "metadata": {},
   "source": [
    "2. Define three points `p1`, `p2` and `p3` with different values."
   ]
  },
  {
   "cell_type": "code",
   "execution_count": null,
   "metadata": {},
   "outputs": [],
   "source": [
    "let p1 = -2.5, 5.0, 0.2\n",
    "let p2 = 0.0, 0.0, 13.1\n",
    "let p3 = 5.4, -8.2, 1.0"
   ]
  },
  {
   "cell_type": "markdown",
   "metadata": {},
   "source": [
    "3. Implement a function `vector3_to_string : vector3 -> string` to convert a vector into a human-readable representation."
   ]
  },
  {
   "cell_type": "code",
   "execution_count": null,
   "metadata": {},
   "outputs": [],
   "source": [
    "let vector3_to_string =\n",
    "    fun (x,y,z) -> \"(\" ^ \n",
    "        (string_of_float x) ^ \",\" ^ \n",
    "        (string_of_float y) ^ \",\" ^ \n",
    "        (string_of_float z) ^ \")\""
   ]
  },
  {
   "cell_type": "markdown",
   "metadata": {},
   "source": [
    "4. Write a function `vector3_add : vector3 -> vector3 -> vector3` to add two vectors."
   ]
  },
  {
   "cell_type": "code",
   "execution_count": null,
   "metadata": {},
   "outputs": [],
   "source": [
    "let vector3_add (x1,y1,z1) (x2,y2,z2) = x1+.x2, y1+.y2, z1+.z2"
   ]
  },
  {
   "cell_type": "markdown",
   "metadata": {},
   "source": [
    "5. Write a function `vector3_max : vector3 -> vector3 -> vector3` that returns the larger vector (the vector with the greater magnitude)."
   ]
  },
  {
   "cell_type": "code",
   "execution_count": null,
   "metadata": {},
   "outputs": [],
   "source": [
    "let vector3_max (x1,y1,z1) (x2,y2,z2) =\n",
    "    if x1*.x1 +. y1*.y1 +. z1*.z1 > x2*.x2 +. y2*.y2 +. z2*.z2 \n",
    "        then (x1, y1, z1) \n",
    "        else (x2, y2, z2)"
   ]
  },
  {
   "cell_type": "markdown",
   "metadata": {},
   "source": [
    "6. Compute the result of adding `p1` to the larger of `p2` and `p3` and print the result as a string."
   ]
  },
  {
   "cell_type": "code",
   "execution_count": null,
   "metadata": {},
   "outputs": [],
   "source": [
    "vector3_to_string (vector3_add p1 (vector3_max p2 p3))"
   ]
  },
  {
   "cell_type": "markdown",
   "metadata": {},
   "source": [
    "# Assignment 5.4 (P) Student Database\n",
    "\n",
    "In this assignment, you have to manage the students of a university.\n",
    "\n",
    "1. Define a data type for a student. For every student the first name, last name, identification number, current semester as well as the grades received in different courses have to be stored. A course is simply represented by a number."
   ]
  },
  {
   "cell_type": "code",
   "execution_count": null,
   "metadata": {},
   "outputs": [],
   "source": [
    "type student = { \n",
    "    first_name : string; \n",
    "    last_name : string; \n",
    "    id : int; \n",
    "    semester : int; \n",
    "    grades : (int * float) list \n",
    "}"
   ]
  },
  {
   "cell_type": "markdown",
   "metadata": {},
   "source": [
    "The collection of students is now defined as a list of students: "
   ]
  },
  {
   "cell_type": "code",
   "execution_count": null,
   "metadata": {},
   "outputs": [],
   "source": [
    "type database = student list"
   ]
  },
  {
   "cell_type": "markdown",
   "metadata": {},
   "source": [
    "2. Write a function `insert : student -> database -> database` that inserts a student into the database."
   ]
  },
  {
   "cell_type": "code",
   "execution_count": null,
   "metadata": {},
   "outputs": [],
   "source": [
    "let insert s db = s::db"
   ]
  },
  {
   "cell_type": "markdown",
   "metadata": {},
   "source": [
    "3. Write a function `find_by_id : int -> db -> student list` that returns a list with all students with the given id (either a single student or an empty list, if no such student exists)."
   ]
  },
  {
   "cell_type": "code",
   "execution_count": null,
   "metadata": {},
   "outputs": [],
   "source": [
    "let rec find_by_id id db = match db with [] -> [] \n",
    "    | x::xs -> if x.id = id then [x] else find_by_id id xs    "
   ]
  },
  {
   "cell_type": "markdown",
   "metadata": {},
   "source": [
    "4. Implement a function `find_by_last_name : string -> database -> student list` to find all students with a given last name."
   ]
  },
  {
   "cell_type": "code",
   "execution_count": null,
   "metadata": {},
   "outputs": [],
   "source": [
    "let rec find_by_last_name name db = match db with [] -> []\n",
    "    | x::xs -> if x.last_name = name \n",
    "        then x::find_by_last_name name xs \n",
    "        else find_by_last_name name xs"
   ]
  },
  {
   "cell_type": "markdown",
   "metadata": {},
   "source": [
    "# Homework Assignments\n",
    "\n",
    "The homework assignments can be found in a separate pdf file."
   ]
  }
 ],
 "metadata": {
  "kernelspec": {
   "display_name": "OCaml 4.05.0",
   "language": "OCaml",
   "name": "ocaml-jupyter"
  },
  "language_info": {
   "codemirror_mode": "text/x-ocaml",
   "file_extension": ".ml",
   "mimetype": "text/x-ocaml",
   "name": "OCaml",
   "nbconverter_exporter": null,
   "pygments_lexer": "OCaml",
   "version": "4.05.0"
  }
 },
 "nbformat": 4,
 "nbformat_minor": 2
}
