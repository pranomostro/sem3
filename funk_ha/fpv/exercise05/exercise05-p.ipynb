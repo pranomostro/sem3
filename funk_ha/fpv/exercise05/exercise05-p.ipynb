{
 "cells": [
  {
   "cell_type": "markdown",
   "metadata": {},
   "source": [
    "# Assignment 5.1 (P): Getting Started\n",
    "\n",
    "Have a quick look at the following OCaml tools.\n",
    "\n",
    "## REPLs (Read Eval Print Loops)\n",
    "\n",
    "### ocaml\n",
    "\n",
    "Simply type your OCaml code. If you want the REPL to execute your code, type `;;`. Execute the content of a .ml file with `#use \"<filename>\"`. To exit the REPL enter `#quit` or type `Ctrl + D`. Note that `#use`, `quit` as well as `;;` are special sequences recognized by the REPL and are not part of OCaml (so do not use them in a .ml file).\n",
    "\n",
    "### utop\n",
    "\n",
    "utop works in the same way as ocaml, but is more comfortable as it comes with autocompletion, for example, and allows you to change or redo previously typed code much more easily.\n",
    "\n",
    "## IDEs\n",
    "\n",
    "### Visual Studio Code\n",
    "\n",
    "Visual Studio Code is a free full-fledged integrated development environment for a lot of programming languages, due to its great extensibility and rich set of existing extensions. The OCaml plugin together with merlin and ocp-indent provides great utilities\n",
    "\n",
    "* syntax highlighting\n",
    "* autocompletion\n",
    "* smart identation\n",
    "* peek and goto definition\n",
    "* type information \n",
    "* immediate error reports\n",
    "* integrated terminal\n",
    "* and much more ...\n",
    "\n",
    "## Compilers\n",
    "\n",
    "### ocamlc\n",
    "\n",
    "ocamlc is a basic ocaml compiler. When invoked as `ocamlc <file-0> ... <file-n>` it compiles all files into an executable named `a.out`. During this process, `.cmi` and `.cmo` files are generated, representing the compiled interface and object files respectively. Check the documentation (http://caml.inria.fr/pub/docs/manual-ocaml-4.00/manual022.html#toc86) for a list of all command line options and more advanced build steps.\n",
    "\n",
    "### ocamlbuild\n",
    "\n",
    "ocamlbuild is a more convenient compilation utility, as it resolves and compiles dependencies automatically. In order to build your project with ocamlbuild, simply compile your main file `<file>.ml` with either `ocamlbuild <file>.d.byte` or `ocambuild <file>.native` to produce bytecode (with debug information) or native code, respectively. Check the documentation (https://ocaml.org/learn/tutorials/ocamlbuild/) for more details.\n"
   ]
  },
  {
   "cell_type": "markdown",
   "metadata": {},
   "source": [
    "# Assignment 5.2 (P) Expressions\n",
    "\n",
    "So far, you learned about the following types of expressions:\n",
    "* Constants\n",
    "* Variables\n",
    "* Unary operators\n",
    "* Binary operators\n",
    "* Tuples\n",
    "* Records\n",
    "* Lists\n",
    "* If-then-else\n",
    "* Pattern matching\n",
    "* Function definition\n",
    "* Function application\n",
    "* Variable binding\n",
    "\n",
    "Perform the following tasks:\n",
    "1. For each of these expressions, give the general structure and two concrete examples with different subexpressions."
   ]
  },
  {
   "cell_type": "markdown",
   "metadata": {},
   "source": [
    "2. For these expression, list all contained subexpressions and give their corresponding type. Then evaluate the expression:"
   ]
  },
  {
   "cell_type": "code",
   "execution_count": null,
   "metadata": {},
   "outputs": [],
   "source": [
    "(* a *) let a = fun x y -> x + 2 in a 3 8 :: []"
   ]
  },
  {
   "cell_type": "code",
   "execution_count": null,
   "metadata": {},
   "outputs": [],
   "source": [
    "(* b *) ((fun x -> x::[]) (9 - 5), true, ('a', 7))"
   ]
  },
  {
   "cell_type": "markdown",
   "metadata": {},
   "source": [
    "# Assignment 5.3 (P): What's the point?\n",
    "\n",
    "In this assignment, you are supposted to implement some functionalities to compute with 3-dimensional vectors. \n",
    "\n",
    "1. Define a suitable data type for your point."
   ]
  },
  {
   "cell_type": "code",
   "execution_count": null,
   "metadata": {},
   "outputs": [],
   "source": [
    "type vector3 = (* TODO *)"
   ]
  },
  {
   "cell_type": "markdown",
   "metadata": {},
   "source": [
    "2. Define three points `p1`, `p2` and `p3` with different values."
   ]
  },
  {
   "cell_type": "code",
   "execution_count": null,
   "metadata": {},
   "outputs": [],
   "source": [
    "(* TODO *)"
   ]
  },
  {
   "cell_type": "markdown",
   "metadata": {},
   "source": [
    "3. Implement a function `vector3_to_string : vector3 -> string` to convert a vector into a human-readable representation."
   ]
  },
  {
   "cell_type": "code",
   "execution_count": null,
   "metadata": {},
   "outputs": [],
   "source": [
    "(* TODO *)"
   ]
  },
  {
   "cell_type": "markdown",
   "metadata": {},
   "source": [
    "4. Write a function `vector3_add : vector3 -> vector3 -> vector3` to add two vectors."
   ]
  },
  {
   "cell_type": "code",
   "execution_count": null,
   "metadata": {},
   "outputs": [],
   "source": [
    "let vector3_add = (* TODO *)"
   ]
  },
  {
   "cell_type": "markdown",
   "metadata": {},
   "source": [
    "5. Write a function `vector3_max : vector3 -> vector3 -> vector3` that returns the larger vector (the vector with the greater magnitude)."
   ]
  },
  {
   "cell_type": "code",
   "execution_count": null,
   "metadata": {},
   "outputs": [],
   "source": [
    "let vector3_max = (* TODO *)"
   ]
  },
  {
   "cell_type": "markdown",
   "metadata": {},
   "source": [
    "6. Compute the result of adding `p1` to the larger of `p2` and `p3` and print the result as a string."
   ]
  },
  {
   "cell_type": "code",
   "execution_count": null,
   "metadata": {},
   "outputs": [],
   "source": [
    "(* TODO *)"
   ]
  },
  {
   "cell_type": "markdown",
   "metadata": {},
   "source": [
    "# Assignment 5.4 (P) Student Database\n",
    "\n",
    "In this assignment, you have to manage the students of a university.\n",
    "\n",
    "1. Define a data type for a student. For every student the first name, last name, identification number, current semester as well as the grades received in different courses have to be stored. A course is simply represented by a number."
   ]
  },
  {
   "cell_type": "code",
   "execution_count": null,
   "metadata": {},
   "outputs": [],
   "source": [
    "type student = (* TODO *)"
   ]
  },
  {
   "cell_type": "markdown",
   "metadata": {},
   "source": [
    "The collection of students is now defined as a list of students: "
   ]
  },
  {
   "cell_type": "code",
   "execution_count": null,
   "metadata": {},
   "outputs": [],
   "source": [
    "type database = student list"
   ]
  },
  {
   "cell_type": "markdown",
   "metadata": {},
   "source": [
    "2. Write a function `insert : student -> database -> database` that inserts a student into the database."
   ]
  },
  {
   "cell_type": "code",
   "execution_count": null,
   "metadata": {},
   "outputs": [],
   "source": [
    "let insert = (* TODO *)"
   ]
  },
  {
   "cell_type": "markdown",
   "metadata": {},
   "source": [
    "3. Write a function `find_by_id : int -> db -> student list` that returns a list with all students with the given id (either a single student or an empty list, if no such student exists)."
   ]
  },
  {
   "cell_type": "code",
   "execution_count": null,
   "metadata": {},
   "outputs": [],
   "source": [
    "let rec find_by_id = (* TODO *) "
   ]
  },
  {
   "cell_type": "markdown",
   "metadata": {},
   "source": [
    "4. Implement a function `find_by_last_name : string -> database -> student list` to find all students with a given last name."
   ]
  },
  {
   "cell_type": "code",
   "execution_count": null,
   "metadata": {},
   "outputs": [],
   "source": [
    "let rec find_by_last_name = (* TODO *)"
   ]
  },
  {
   "cell_type": "markdown",
   "metadata": {},
   "source": [
    "# Homework Assignments\n",
    "\n",
    "The homework assignments can be found in a separate pdf file."
   ]
  }
 ],
 "metadata": {
  "kernelspec": {
   "display_name": "OCaml 4.05.0",
   "language": "OCaml",
   "name": "ocaml-jupyter"
  },
  "language_info": {
   "codemirror_mode": "text/x-ocaml",
   "file_extension": ".ml",
   "mimetype": "text/x-ocaml",
   "name": "OCaml",
   "nbconverter_exporter": null,
   "pygments_lexer": "OCaml",
   "version": "4.05.0"
  }
 },
 "nbformat": 4,
 "nbformat_minor": 2
}
